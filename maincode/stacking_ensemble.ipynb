{
 "cells": [
  {
   "cell_type": "markdown",
   "metadata": {
    "id": "VlNJdbiQV0Om"
   },
   "source": [
    "## 1. 설정 & 전처리"
   ]
  },
  {
   "cell_type": "code",
   "execution_count": 30,
   "metadata": {
    "executionInfo": {
     "elapsed": 290,
     "status": "ok",
     "timestamp": 1659440801255,
     "user": {
      "displayName": "성균관대학교한지원",
      "userId": "13589160533494245263"
     },
     "user_tz": -540
    },
    "id": "bvpj_bq6UoqA"
   },
   "outputs": [],
   "source": [
    "import pandas as pd\n",
    "import numpy as np\n",
    "import matplotlib.pyplot as plt\n",
    "import seaborn as sns\n",
    "from sklearn.model_selection import StratifiedKFold\n",
    "from sklearn.model_selection import cross_val_score\n",
    "from sklearn.metrics import f1_score\n",
    "from lightgbm import LGBMClassifier\n",
    "from xgboost import XGBClassifier\n",
    "from sklearn.linear_model import LogisticRegression\n",
    "import pandas as pd\n",
    "import time \n",
    "import matplotlib.pyplot as plt\n",
    "import seaborn as sns\n",
    "import missingno as msno\n",
    "import numpy as np\n",
    "from sklearn.cluster import DBSCAN\n",
    "from xgboost import XGBClassifier, DMatrix\n",
    "from sklearn.model_selection import train_test_split, RandomizedSearchCV, GridSearchCV\n",
    "from sklearn.metrics import accuracy_score, precision_score, recall_score, f1_score, roc_auc_score, classification_report\n",
    "from sklearn.linear_model import LogisticRegression\n",
    "from lightgbm import LGBMClassifier\n",
    "from sklearn.preprocessing import StandardScaler, MinMaxScaler, OneHotEncoder\n",
    "from imblearn.over_sampling import SMOTE, RandomOverSampler\n",
    "from imblearn.combine import SMOTETomek\n",
    "import re\n",
    "\n",
    "import random\n",
    "random.seed(804)"
   ]
  },
  {
   "cell_type": "code",
   "execution_count": 38,
   "metadata": {
    "executionInfo": {
     "elapsed": 2282,
     "status": "ok",
     "timestamp": 1659440805944,
     "user": {
      "displayName": "성균관대학교한지원",
      "userId": "13589160533494245263"
     },
     "user_tz": -540
    },
    "id": "yPXDTbg_U1br"
   },
   "outputs": [],
   "source": [
    "train = pd.read_csv('train.csv')\n",
    "test = pd.read_csv('test.csv')"
   ]
  },
  {
   "cell_type": "code",
   "execution_count": 39,
   "metadata": {},
   "outputs": [],
   "source": [
    "# 변수 형태별 리스트\n",
    "cat_list = [a for a in train.columns if a.endswith('cat')]\n",
    "bin_list = [a for a in train.columns if a.endswith('bin')]\n",
    "int_list = [a for a in train.columns if a not in cat_list and a not in bin_list]"
   ]
  },
  {
   "cell_type": "code",
   "execution_count": 40,
   "metadata": {},
   "outputs": [],
   "source": [
    "# 범주형 변환 \n",
    "train[cat_list] = train[cat_list].astype('category')\n",
    "test[cat_list] = test[cat_list].astype('category')"
   ]
  },
  {
   "cell_type": "code",
   "execution_count": 10,
   "metadata": {
    "executionInfo": {
     "elapsed": 6,
     "status": "ok",
     "timestamp": 1659440805946,
     "user": {
      "displayName": "성균관대학교한지원",
      "userId": "13589160533494245263"
     },
     "user_tz": -540
    },
    "id": "CbKJZUGXVgfj"
   },
   "outputs": [],
   "source": [
    "#범주형은 결측치 대체X\n",
    "train = train.replace(np.nan, 999)\n",
    "test = test.replace(np.nan, 999)"
   ]
  },
  {
   "cell_type": "code",
   "execution_count": 41,
   "metadata": {},
   "outputs": [],
   "source": [
    "vars_to_drop = ['V24_cat', 'V26_cat']\n",
    "train.drop(vars_to_drop, inplace=True, axis=1)\n",
    "test.drop(vars_to_drop, inplace=True, axis=1)\n",
    "\n",
    "from statistics import mode\n",
    "\n",
    "train.loc[train['V21'] != train['V21'], 'V21'] = train['V21'].mean()\n",
    "train.loc[train['V34'] != train['V34'], 'V34'] = train['V34'].mean()\n",
    "train.loc[train['V36'] != train['V36'], 'V36'] = train['V36'].mean()\n",
    "\n",
    "train.loc[train['V5'] != train['V5'], 'V5'] = mode(train['V5'])\n",
    "train.loc[train['V33'] != train['V33'], 'V33'] = mode(train['V33'])\n",
    "\n",
    "test.loc[test['V21'] != test['V21'], 'V21'] = test['V21'].mean()\n",
    "test.loc[test['V34'] != test['V34'], 'V34'] = test['V34'].mean()\n",
    "test.loc[test['V36'] != test['V36'], 'V36'] = test['V36'].mean()\n",
    "\n",
    "test.loc[test['V5'] != test['V5'], 'V5'] = mode(test['V5'])\n",
    "test.loc[test['V33'] != test['V33'], 'V33'] = mode(test['V33'])\n",
    "\n"
   ]
  },
  {
   "cell_type": "code",
   "execution_count": 42,
   "metadata": {
    "executionInfo": {
     "elapsed": 8,
     "status": "ok",
     "timestamp": 1659440805948,
     "user": {
      "displayName": "성균관대학교한지원",
      "userId": "13589160533494245263"
     },
     "user_tz": -540
    },
    "id": "t3xzezDLVh78"
   },
   "outputs": [],
   "source": [
    "def add_noise(series, noise_level):\n",
    "    return series * (1 + noise_level * np.random.randn(len(series)))\n",
    "\n",
    "def target_encode(trn_series=None, \n",
    "                  tst_series=None, \n",
    "                  target=None, \n",
    "                  min_samples_leaf=1, \n",
    "                  smoothing=1,\n",
    "                  noise_level=0):\n",
    "    assert len(trn_series) == len(target)\n",
    "    assert trn_series.name == tst_series.name\n",
    "    temp = pd.concat([trn_series, target], axis=1)\n",
    "    # y변수 평균 구하기\n",
    "    averages = temp.groupby(by=trn_series.name)[target.name].agg([\"mean\", \"count\"])\n",
    "    # smoothing 구하기\n",
    "    smoothing = 1 / (1 + np.exp(-(averages[\"count\"] - min_samples_leaf) / smoothing))\n",
    " \n",
    "    prior = target.mean()\n",
    "    # 카운트수 크면 full_avg 작게\n",
    "    averages[target.name] = prior * (1 - smoothing) + averages[\"mean\"] * smoothing\n",
    "    averages.drop([\"mean\", \"count\"], axis=1, inplace=True)\n",
    "    \n",
    "    ft_trn_series = pd.merge(\n",
    "        trn_series.to_frame(trn_series.name),\n",
    "        averages.reset_index().rename(columns={'index': target.name, target.name: 'average'}),\n",
    "        on=trn_series.name,\n",
    "        how='left')['average'].rename(trn_series.name + '_mean').fillna(prior)\n",
    "    \n",
    "    ft_trn_series.index = trn_series.index \n",
    "    ft_tst_series = pd.merge(\n",
    "        tst_series.to_frame(tst_series.name),\n",
    "        averages.reset_index().rename(columns={'index': target.name, target.name: 'average'}),\n",
    "        on=tst_series.name,\n",
    "        how='left')['average'].rename(trn_series.name + '_mean').fillna(prior)\n",
    "    ft_tst_series.index = tst_series.index\n",
    "    return add_noise(ft_trn_series, noise_level), add_noise(ft_tst_series, noise_level)"
   ]
  },
  {
   "cell_type": "code",
   "execution_count": 43,
   "metadata": {
    "executionInfo": {
     "elapsed": 426,
     "status": "ok",
     "timestamp": 1659440806366,
     "user": {
      "displayName": "성균관대학교한지원",
      "userId": "13589160533494245263"
     },
     "user_tz": -540
    },
    "id": "SyjkMF79VmIk"
   },
   "outputs": [],
   "source": [
    "#인코딩\n",
    "train_encoded, test_encoded = target_encode(train[\"V32_cat\"], \n",
    "                             test[\"V32_cat\"], \n",
    "                             target=train.target, \n",
    "                             min_samples_leaf=100,\n",
    "                             smoothing=10,\n",
    "                             noise_level=0.01)\n",
    "    \n",
    "train['V32_cat_encoded'] = train_encoded\n",
    "train.drop('V32_cat', axis=1, inplace=True)\n",
    "test['V32_cat_encoded'] = test_encoded\n",
    "test.drop('V32_cat', axis=1, inplace=True)"
   ]
  },
  {
   "cell_type": "code",
   "execution_count": 5,
   "metadata": {
    "colab": {
     "base_uri": "https://localhost:8080/"
    },
    "executionInfo": {
     "elapsed": 8,
     "status": "ok",
     "timestamp": 1659440806367,
     "user": {
      "displayName": "성균관대학교한지원",
      "userId": "13589160533494245263"
     },
     "user_tz": -540
    },
    "id": "sLrF4sP5Vm-j",
    "outputId": "5031715b-2a51-476a-9b4c-9ad53edd8506"
   },
   "outputs": [
    {
     "name": "stdout",
     "output_type": "stream",
     "text": [
      "0 언더샘플링 비율: 0.341441237210994\n",
      "0 counts: 137061\n"
     ]
    }
   ],
   "source": [
    "#언더샘플링\n",
    "from sklearn.utils import shuffle\n",
    "\n",
    "desired_apriori=0.10\n",
    "\n",
    "\n",
    "idx_0 = train[train.target == 0].index\n",
    "idx_1 = train[train.target == 1].index\n",
    "\n",
    "\n",
    "nb_0 = len(train.loc[idx_0])\n",
    "nb_1 = len(train.loc[idx_1])\n",
    "\n",
    "\n",
    "undersampling_rate = ((1-desired_apriori)*nb_1)/(nb_0*desired_apriori)\n",
    "undersampled_nb_0 = int(undersampling_rate*nb_0)\n",
    "print('0 언더샘플링 비율: {}'.format(undersampling_rate))\n",
    "print('0 counts: {}'.format(undersampled_nb_0))\n",
    "\n",
    "\n",
    "undersampled_idx = shuffle(idx_0, random_state=314, n_samples=undersampled_nb_0)\n",
    "\n",
    "\n",
    "idx_list = list(undersampled_idx) + list(idx_1)\n",
    "\n",
    "\n",
    "train = train.loc[idx_list].reset_index(drop=True)"
   ]
  },
  {
   "cell_type": "code",
   "execution_count": 45,
   "metadata": {},
   "outputs": [
    {
     "name": "stdout",
     "output_type": "stream",
     "text": [
      "sampling 적용 전 학습용 피처/레이블 데이터 세트 :  (416648, 55) (416648,)\n",
      "sampling 적용 후 학습용 피처/레이블 데이터 세트 : (802838, 55) (802838,)\n"
     ]
    }
   ],
   "source": [
    "#랜덤 오버 샘플링으로 클래스 불균형 개선 \n",
    "oversample = RandomOverSampler(sampling_strategy='minority')\n",
    "X_over, y_over = oversample.fit_resample(X, y)\n",
    "\n",
    "print(\"sampling 적용 전 학습용 피처/레이블 데이터 세트 : \", X.shape, y.shape)\n",
    "print('sampling 적용 후 학습용 피처/레이블 데이터 세트 :', X_over.shape, y_over.shape)"
   ]
  },
  {
   "cell_type": "code",
   "execution_count": 26,
   "metadata": {
    "executionInfo": {
     "elapsed": 2315,
     "status": "ok",
     "timestamp": 1659440808973,
     "user": {
      "displayName": "성균관대학교한지원",
      "userId": "13589160533494245263"
     },
     "user_tz": -540
    },
    "id": "XEdN8kY0Vqxj"
   },
   "outputs": [],
   "source": [
    "cat_features = [a for a in train.columns if a.endswith('cat')]\n",
    "\n",
    "for column in cat_features:\n",
    "    temp = pd.get_dummies(pd.Series(train[column]))\n",
    "    train = pd.concat([train,temp],axis=1)\n",
    "    train = train.drop([column],axis=1)\n",
    "    \n",
    "for column in cat_features:\n",
    "    temp = pd.get_dummies(pd.Series(test[column]))\n",
    "    test = pd.concat([test,temp],axis=1)\n",
    "    test = test.drop([column],axis=1)"
   ]
  },
  {
   "cell_type": "code",
   "execution_count": 44,
   "metadata": {
    "executionInfo": {
     "elapsed": 11,
     "status": "ok",
     "timestamp": 1659440808974,
     "user": {
      "displayName": "성균관대학교한지원",
      "userId": "13589160533494245263"
     },
     "user_tz": -540
    },
    "id": "QzZ161FJVt5U"
   },
   "outputs": [],
   "source": [
    "id_test = test['id'].values\n",
    "y = train['target'].values\n",
    "\n",
    "X = train.drop(['target','id'], axis = 1)\n",
    "test = test.drop(['id'], axis = 1)"
   ]
  },
  {
   "cell_type": "code",
   "execution_count": 231,
   "metadata": {
    "colab": {
     "base_uri": "https://localhost:8080/"
    },
    "executionInfo": {
     "elapsed": 10,
     "status": "ok",
     "timestamp": 1659440808974,
     "user": {
      "displayName": "성균관대학교한지원",
      "userId": "13589160533494245263"
     },
     "user_tz": -540
    },
    "id": "4_ekKG2WVwoT",
    "outputId": "a36fc6ee-12e7-4b89-ebb6-cbcc95a55bef"
   },
   "outputs": [
    {
     "name": "stdout",
     "output_type": "stream",
     "text": [
      "Train dataset : (802838, 55) \n",
      "Test dataset: (178564, 55)\n"
     ]
    }
   ],
   "source": [
    "print(\"Train dataset :\",train.values.shape, \"\\nTest dataset:\",test.values.shape)"
   ]
  },
  {
   "cell_type": "markdown",
   "metadata": {
    "id": "9-Ff1TKxVxGM"
   },
   "source": [
    "\n",
    "## 2. 모델링"
   ]
  },
  {
   "cell_type": "code",
   "execution_count": 103,
   "metadata": {
    "colab": {
     "base_uri": "https://localhost:8080/"
    },
    "executionInfo": {
     "elapsed": 9,
     "status": "ok",
     "timestamp": 1659440808974,
     "user": {
      "displayName": "성균관대학교한지원",
      "userId": "13589160533494245263"
     },
     "user_tz": -540
    },
    "id": "ew6aZuzqY3sF",
    "outputId": "c8f8a9a3-79a4-4c56-b533-1d29fe9d2074"
   },
   "outputs": [
    {
     "data": {
      "text/plain": [
       "152290"
      ]
     },
     "execution_count": 103,
     "metadata": {},
     "output_type": "execute_result"
    }
   ],
   "source": [
    "train.shape[0]"
   ]
  },
  {
   "cell_type": "code",
   "execution_count": 9,
   "metadata": {
    "executionInfo": {
     "elapsed": 270,
     "status": "ok",
     "timestamp": 1659441337076,
     "user": {
      "displayName": "성균관대학교한지원",
      "userId": "13589160533494245263"
     },
     "user_tz": -540
    },
    "id": "5HGWUvZZVy2L"
   },
   "outputs": [],
   "source": [
    "class Ensemble(object):\n",
    "    def __init__(self, n_splits, stacker, base_models):\n",
    "        self.n_splits = n_splits\n",
    "        self.stacker = stacker\n",
    "        self.base_models = base_models\n",
    "\n",
    "    # X = train, y = target_train, T = test\n",
    "    def fit_predict(self, X, y, T):\n",
    "        X = np.array(X)\n",
    "        y = np.array(y)\n",
    "        T = np.array(T)\n",
    "        folds = list(StratifiedKFold(n_splits=self.n_splits, shuffle=True, random_state=314).split(X, y))\n",
    "\n",
    "        # 0으로만 채워진 array 생성\n",
    "        S_train = np.zeros((X.shape[0], len(self.base_models)))\n",
    "        S_test = np.zeros((T.shape[0], len(self.base_models)))\n",
    "\n",
    "        # n개 모델 돌려가면서 결과냄\n",
    "        for i, clf in enumerate(self.base_models):\n",
    "\n",
    "            S_test_i = np.zeros((T.shape[0], self.n_splits))\n",
    "\n",
    "            for j, (train_idx, test_idx) in enumerate(folds):\n",
    "                X_train = X[train_idx]\n",
    "                y_train = y[train_idx]\n",
    "                X_holdout = X[test_idx]\n",
    "                print(\"Base model %d: fit %s model | fold %d\" % (i+1, str(clf).split('(')[0], j+1))\n",
    "                clf.fit(X_train, y_train)\n",
    "                tr_preds = clf.predict(X_train)\n",
    "                tr_score = f1_score(tr_preds, y_train)\n",
    "                print(\"f1: \", tr_score)\n",
    "                y_pred = clf.predict_proba(X_holdout)[:,1]               \n",
    "                S_train[test_idx, i] = y_pred\n",
    "                S_test_i[:, j] = clf.predict_proba(T)[:,1]\n",
    "            S_test[:, i] = S_test_i.mean(axis=1)\n",
    "\n",
    "        self.stacker.fit(S_train, y)\n",
    "        results = self.stacker.predict(S_train)\n",
    "        results_score = f1_score(results, y)\n",
    "        print(\"Final f1: \", results_score)\n",
    "\n",
    "        res = self.stacker.predict(S_test)\n",
    "        return res"
   ]
  },
  {
   "cell_type": "code",
   "execution_count": 10,
   "metadata": {
    "executionInfo": {
     "elapsed": 2,
     "status": "ok",
     "timestamp": 1659441203943,
     "user": {
      "displayName": "성균관대학교한지원",
      "userId": "13589160533494245263"
     },
     "user_tz": -540
    },
    "id": "6jhwNO2GYG9V"
   },
   "outputs": [],
   "source": [
    "# LightGBM params\n",
    "# lgb_1\n",
    "lgb_params1 = {}\n",
    "lgb_params1['learning_rate'] = 0.02\n",
    "lgb_params1['n_estimators'] = 1000\n",
    "lgb_params1['random_state'] = 804\n",
    "lgb_params1['max_depth'] = 6\n",
    "lgb_params1['min_child_samples'] = 500\n",
    "lgb_params1['num_leaves'] = 64\n",
    "lgb_params1['num_threads'] = 4\n",
    "lgb_params1['is_unbalance'] = True\n",
    "\n",
    "\n",
    "\n",
    "# lgb2\n",
    "lgb_params2 = {}\n",
    "lgb_params2['learning_rate'] = 0.02\n",
    "lgb_params2['n_estimators'] = 600\n",
    "lgb_params2['random_state'] = 804\n",
    "lgb_params2['max_depth'] = 6\n",
    "lgb_params2['min_child_samples'] = 500\n",
    "lgb_params2['num_leaves'] = 64\n",
    "lgb_params2['num_threads'] = 4\n",
    "lgb_params1['is_unbalance'] = True\n",
    "\n",
    "\n",
    "# lgb3\n",
    "lgb_params3 = {}\n",
    "lgb_params3['n_estimators'] = 1100\n",
    "lgb_params3['max_depth'] = 4\n",
    "lgb_params3['learning_rate'] = 0.02\n",
    "lgb_params3['seed'] = 314\n",
    "lgb_params3['num_threads'] = 4\n",
    "\n",
    "# XGBoost params\n",
    "xgb_params = {}\n",
    "xgb_params['objective'] = 'binary:logistic'\n",
    "xgb_params['learning_rate'] = 0.04\n",
    "xgb_params['n_estimators'] = 490\n",
    "xgb_params['max_depth'] = 4\n",
    "xgb_params['subsample'] = 0.9\n",
    "xgb_params['colsample_bytree'] = 0.9  \n",
    "xgb_params['min_child_weight'] = 10\n",
    "xgb_params['num_threads'] = 4"
   ]
  },
  {
   "cell_type": "code",
   "execution_count": 11,
   "metadata": {
    "executionInfo": {
     "elapsed": 2,
     "status": "ok",
     "timestamp": 1659441205441,
     "user": {
      "displayName": "성균관대학교한지원",
      "userId": "13589160533494245263"
     },
     "user_tz": -540
    },
    "id": "O__v1HHWYIft"
   },
   "outputs": [],
   "source": [
    "lgb_model1 = LGBMClassifier(**lgb_params1)\n",
    "\n",
    "lgb_model2 = LGBMClassifier(**lgb_params2)\n",
    "       \n",
    "lgb_model3 = LGBMClassifier(**lgb_params3)\n",
    "\n",
    "xgb_model = XGBClassifier(**xgb_params)\n",
    "\n",
    "# Stacking model\n",
    "log_model = LogisticRegression()"
   ]
  },
  {
   "cell_type": "code",
   "execution_count": 14,
   "metadata": {
    "executionInfo": {
     "elapsed": 3,
     "status": "ok",
     "timestamp": 1659441343000,
     "user": {
      "displayName": "성균관대학교한지원",
      "userId": "13589160533494245263"
     },
     "user_tz": -540
    },
    "id": "oBKd_fUjYOLF"
   },
   "outputs": [],
   "source": [
    "stack = Ensemble(n_splits=2,\n",
    "        stacker = log_model,\n",
    "        base_models = (lgb_model1, xgb_model))  "
   ]
  },
  {
   "cell_type": "code",
   "execution_count": null,
   "metadata": {
    "colab": {
     "base_uri": "https://localhost:8080/"
    },
    "id": "VpfD6JpvYPmF",
    "outputId": "7657c59f-2c30-43c3-9eba-f34f499aadd8"
   },
   "outputs": [
    {
     "name": "stdout",
     "output_type": "stream",
     "text": [
      "Base model 1: fit LGBMClassifier model | fold 1\n",
      "[LightGBM] [Warning] num_threads is set=4, n_jobs=-1 will be ignored. Current value: num_threads=4\n",
      "f1:  0.33925427079793646\n",
      "Base model 1: fit LGBMClassifier model | fold 2\n",
      "[LightGBM] [Warning] num_threads is set=4, n_jobs=-1 will be ignored. Current value: num_threads=4\n",
      "f1:  0.3454306130124106\n",
      "Base model 2: fit XGBClassifier model | fold 1\n",
      "[22:47:21] WARNING: C:/Users/Administrator/workspace/xgboost-win64_release_1.6.0/src/learner.cc:627: \n",
      "Parameters: { \"num_threads\" } might not be used.\n",
      "\n",
      "  This could be a false alarm, with some parameters getting used by language bindings but\n",
      "  then being mistakenly passed down to XGBoost core, or some parameter actually being used\n",
      "  but getting flagged wrongly here. Please open an issue if you find any such cases.\n",
      "\n",
      "\n"
     ]
    }
   ],
   "source": [
    "y_prediction = stack.fit_predict(train, target_train, test)"
   ]
  },
  {
   "cell_type": "code",
   "execution_count": 306,
   "metadata": {
    "id": "YdnQm1vDD-zl"
   },
   "outputs": [],
   "source": [
    "submission = pd.DataFrame()\n",
    "submission['id'] = id_test\n",
    "submission['target'] = y_prediction\n",
    "submission.to_csv('1-10.csv', index=False)"
   ]
  }
 ],
 "metadata": {
  "accelerator": "GPU",
  "colab": {
   "authorship_tag": "ABX9TyNREebSogDsLb5iQck/2enA",
   "collapsed_sections": [],
   "name": "방세.ipynb",
   "provenance": []
  },
  "gpuClass": "standard",
  "kernelspec": {
   "display_name": "Python 3 (ipykernel)",
   "language": "python",
   "name": "python3"
  },
  "language_info": {
   "codemirror_mode": {
    "name": "ipython",
    "version": 3
   },
   "file_extension": ".py",
   "mimetype": "text/x-python",
   "name": "python",
   "nbconvert_exporter": "python",
   "pygments_lexer": "ipython3",
   "version": "3.9.7"
  }
 },
 "nbformat": 4,
 "nbformat_minor": 1
}
